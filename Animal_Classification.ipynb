{
  "cells": [
    {
      "cell_type": "markdown",
      "metadata": {
        "id": "Z5dyhoaVNP_Y"
      },
      "source": [
        "# animal_classification **using** Convolutional Neural Network"
      ]
    },
    {
      "cell_type": "markdown",
      "metadata": {
        "id": "Q07tZnkjNZvO"
      },
      "source": [
        "###importing necessary libraries"
      ]
    },
    {
      "cell_type": "code",
      "execution_count": null,
      "metadata": {
        "id": "V8b44UtK_75e"
      },
      "outputs": [],
      "source": [
        "import pandas as pd\n",
        "import numpy as np\n",
        "import itertools\n",
        "import keras\n",
        "from sklearn import metrics\n",
        "from sklearn.metrics import confusion_matrix\n",
        "import tensorflow as tf\n",
        "from tensorflow.keras.preprocessing.image import ImageDataGenerator\n",
        "from tensorflow.keras.models import Sequential\n",
        "from tensorflow.keras.layers import Dense, Flatten, Dropout\n",
        "from tensorflow.keras import optimizers\n",
        "from tensorflow.keras.preprocessing.image import ImageDataGenerator, img_to_array, load_img\n",
        "from keras.models import Sequential\n",
        "from keras import optimizers\n",
        "from keras.layers import Dropout, Flatten, Dense\n",
        "from keras import applications\n",
        "from tensorflow.keras.utils import to_categorical\n",
        "import matplotlib.pyplot as plt\n",
        "import matplotlib.image as mpimg\n",
        "import math\n",
        "import datetime\n",
        "import time"
      ]
    },
    {
      "cell_type": "markdown",
      "metadata": {
        "id": "j6iXv2QVNtZE"
      },
      "source": [
        "###Looking up our image **dataset**"
      ]
    },
    {
      "cell_type": "code",
      "execution_count": 2,
      "metadata": {
        "id": "MZiFnfxfzo9j"
      },
      "outputs": [],
      "source": [
        "#Default dimensions\n",
        "img_width, img_height = 224, 224\n",
        "\n",
        "#Create a bottleneck file\n",
        "top_model_weights_path = 'bottleneck_fc_model.h5'\n",
        "\n",
        "# loading up our datasets\n",
        "train_data_dir = '/workspaces/animal_classification/dataset'\n",
        "validation_data_dir = '/workspaces/animal_classification/dataset'\n",
        "test_data_dir = '/workspaces/animal_classification/dataset'\n",
        "\n",
        "# number of epochs to train top model\n",
        "epochs = 10\n",
        "\n",
        "# batch size used by flow_from_directory and predict_generator\n",
        "batch_size = 50"
      ]
    },
    {
      "cell_type": "markdown",
      "metadata": {
        "id": "YjOaydxyNOeP"
      },
      "source": [
        "###Loading vgc16 model"
      ]
    },
    {
      "cell_type": "code",
      "execution_count": null,
      "metadata": {
        "colab": {
          "base_uri": "https://localhost:8080/"
        },
        "id": "m1BbxRo10CqC",
        "outputId": "efac471d-ba3f-41cc-d0f6-03939367a85c"
      },
      "outputs": [],
      "source": [
        "vgg16 = applications.VGG16(include_top=False, weights='imagenet')"
      ]
    },
    {
      "cell_type": "code",
      "execution_count": 4,
      "metadata": {
        "id": "Y3XqrNZr0REf"
      },
      "outputs": [],
      "source": [
        "datagen = ImageDataGenerator(rescale=1. / 255)  #needed to create the bottleneck .npy files"
      ]
    },
    {
      "cell_type": "markdown",
      "metadata": {
        "id": "DHiCu8Z6aoSj"
      },
      "source": [
        "### Creation of weights/features with VGG16"
      ]
    },
    {
      "cell_type": "code",
      "execution_count": null,
      "metadata": {
        "colab": {
          "base_uri": "https://localhost:8080/"
        },
        "id": "QCdruy0R0XwS",
        "outputId": "39411bf1-b426-4524-9177-591e7b29d651"
      },
      "outputs": [],
      "source": [
        "#run this only once\n",
        "start = datetime.datetime.now()\n",
        "\n",
        "generator = datagen.flow_from_directory(\n",
        "train_data_dir,\n",
        "target_size=(img_width, img_height),\n",
        "batch_size=batch_size,\n",
        "class_mode=None,\n",
        "shuffle=False)\n",
        "\n",
        "nb_train_samples = len(generator.filenames)\n",
        "num_classes = len(generator.class_indices)\n",
        "\n",
        "predict_size_train = int(math.ceil(nb_train_samples / batch_size))\n",
        "\n",
        "# Use predict instead of predict_generator\n",
        "bottleneck_features_train = vgg16.predict(generator, steps=predict_size_train) # Changed to predict, added steps argument\n",
        "\n",
        "np.save('bottleneck_features_train.npy', bottleneck_features_train)\n",
        "end= datetime.datetime.now()\n",
        "elapsed= end-start\n",
        "print ('Time: ', elapsed)"
      ]
    },
    {
      "cell_type": "code",
      "execution_count": null,
      "metadata": {
        "colab": {
          "base_uri": "https://localhost:8080/"
        },
        "id": "TnUR2ElK0bpG",
        "outputId": "1ffbb2b3-25ef-4787-f559-fb76bcb92de6"
      },
      "outputs": [],
      "source": [
        "#run this only once\n",
        "start = datetime.datetime.now()\n",
        "generator = datagen.flow_from_directory(\n",
        "     validation_data_dir,\n",
        "     target_size=(img_width, img_height),\n",
        "     batch_size=batch_size,\n",
        "     class_mode=None,\n",
        "     shuffle=False)\n",
        "\n",
        "nb_validation_samples = len(generator.filenames)\n",
        "\n",
        "predict_size_validation = int(math.ceil(nb_validation_samples / batch_size))\n",
        "\n",
        "# Use predict instead of predict_generator and add the steps argument\n",
        "bottleneck_features_validation = vgg16.predict(generator, steps=predict_size_validation)\n",
        "\n",
        "np.save('bottleneck_features_validation.npy', bottleneck_features_validation)\n",
        "end= datetime.datetime.now()\n",
        "elapsed= end-start\n",
        "print ('Time: ', elapsed)"
      ]
    },
    {
      "cell_type": "code",
      "execution_count": null,
      "metadata": {
        "colab": {
          "base_uri": "https://localhost:8080/"
        },
        "id": "fRr9CPUb0fRh",
        "outputId": "01fed763-76f6-4a19-fcbe-ccf73d5b13ed"
      },
      "outputs": [],
      "source": [
        "#run this only once\n",
        "start = datetime.datetime.now()\n",
        "generator = datagen.flow_from_directory(\n",
        "     test_data_dir,\n",
        "     target_size=(img_width, img_height),\n",
        "     batch_size=batch_size,\n",
        "     class_mode=None,\n",
        "     shuffle=False)\n",
        "nb_test_samples = len(generator.filenames)\n",
        "predict_size_test = int(math.ceil(nb_test_samples / batch_size))\n",
        "# Replace predict_generator with predict and add the steps argument\n",
        "bottleneck_features_test = vgg16.predict(generator, steps=predict_size_test)\n",
        "np.save('bottleneck_features_test.npy', bottleneck_features_test)\n",
        "end= datetime.datetime.now()\n",
        "elapsed= end-start\n",
        "print ('Time: ', elapsed)"
      ]
    },
    {
      "cell_type": "markdown",
      "metadata": {
        "id": "9X4-HDIGbS0V"
      },
      "source": [
        "###Loading training, validation and testing data"
      ]
    },
    {
      "cell_type": "code",
      "execution_count": null,
      "metadata": {
        "colab": {
          "base_uri": "https://localhost:8080/"
        },
        "id": "LtInNitn939q",
        "outputId": "6bd4fd19-638d-4bfe-cd80-928c1b37a87e"
      },
      "outputs": [],
      "source": [
        "#training data\n",
        "generator_top = datagen.flow_from_directory(\n",
        "         train_data_dir,\n",
        "         target_size=(img_width, img_height),\n",
        "         batch_size=batch_size,\n",
        "         class_mode='categorical',\n",
        "         shuffle=False)\n",
        "nb_train_samples = len(generator_top.filenames)\n",
        "num_classes = len(generator_top.class_indices)\n",
        "\n",
        "# load the bottleneck features saved earlier\n",
        "train_data = np.load('bottleneck_features_train.npy')\n",
        "\n",
        "# get the class lebels for the training data, in the original order\n",
        "train_labels = generator_top.classes\n",
        "\n",
        "# convert the training labels to categorical vectors\n",
        "train_labels = to_categorical(train_labels, num_classes=num_classes)"
      ]
    },
    {
      "cell_type": "code",
      "execution_count": null,
      "metadata": {
        "colab": {
          "base_uri": "https://localhost:8080/"
        },
        "id": "nDYIQYnW-JcL",
        "outputId": "bfa9cd07-c243-4701-86bc-a984d488e2c1"
      },
      "outputs": [],
      "source": [
        "#validation data\n",
        "generator_top = datagen.flow_from_directory(\n",
        "         validation_data_dir,\n",
        "         target_size=(img_width, img_height),\n",
        "         batch_size=batch_size,\n",
        "         class_mode=None,\n",
        "         shuffle=False)\n",
        "\n",
        "nb_validation_samples = len(generator_top.filenames)\n",
        "\n",
        "validation_data = np.load('bottleneck_features_validation.npy')\n",
        "\n",
        "validation_labels = generator_top.classes\n",
        "validation_labels = to_categorical(validation_labels, num_classes=num_classes)"
      ]
    },
    {
      "cell_type": "code",
      "execution_count": null,
      "metadata": {
        "colab": {
          "base_uri": "https://localhost:8080/"
        },
        "id": "Eg3ph_rz-MSD",
        "outputId": "3c6475e4-36c2-4988-a1dd-20332108b856"
      },
      "outputs": [],
      "source": [
        "#testing data\n",
        "generator_top = datagen.flow_from_directory(\n",
        "         test_data_dir,\n",
        "         target_size=(img_width, img_height),\n",
        "         batch_size=batch_size,\n",
        "         class_mode=None,\n",
        "         shuffle=False)\n",
        "\n",
        "nb_test_samples = len(generator_top.filenames)\n",
        "\n",
        "test_data = np.load('bottleneck_features_test.npy')\n",
        "\n",
        "test_labels = generator_top.classes\n",
        "test_labels = to_categorical(test_labels, num_classes=num_classes)"
      ]
    },
    {
      "cell_type": "markdown",
      "metadata": {
        "id": "MmetaisUbYUH"
      },
      "source": [
        "##Training of model"
      ]
    },
    {
      "cell_type": "code",
      "execution_count": null,
      "metadata": {
        "colab": {
          "base_uri": "https://localhost:8080/"
        },
        "id": "WpRU1Vza-OZ3",
        "outputId": "3e588c00-f8d8-4c2c-bd73-e5aa521b037f"
      },
      "outputs": [],
      "source": [
        "start = datetime.datetime.now()\n",
        "model = Sequential()\n",
        "model.add(Flatten(input_shape=train_data.shape[1:]))\n",
        "model.add(Dense(100, activation=keras.layers.LeakyReLU(alpha=0.3)))\n",
        "model.add(Dropout(0.5))\n",
        "model.add(Dense(50, activation=keras.layers.LeakyReLU(alpha=0.3)))\n",
        "model.add(Dropout(0.3))\n",
        "model.add(Dense(num_classes, activation='softmax'))\n",
        "\n",
        "model.compile(loss='categorical_crossentropy',\n",
        "              optimizer=optimizers.RMSprop(learning_rate=1e-4), # Changed lr to learning_rate\n",
        "              metrics=['acc'])\n",
        "\n",
        "history = model.fit(train_data, train_labels,\n",
        "      epochs=10,\n",
        "      batch_size=batch_size,\n",
        "      validation_data=(validation_data, validation_labels))\n",
        "\n",
        "model.save_weights('bottleneck_fc_model.weights.h5')\n",
        "\n",
        "(eval_loss, eval_accuracy) = model.evaluate(\n",
        " validation_data, validation_labels, batch_size=batch_size, verbose=1)\n",
        "\n",
        "print(\"[INFO] accuracy: {:.2f}%\".format(eval_accuracy * 100))\n",
        "print(\"[INFO] Loss: {}\".format(eval_loss))\n",
        "end= datetime.datetime.now()\n",
        "elapsed= end-start\n",
        "print ('Time: ', elapsed)"
      ]
    },
    {
      "cell_type": "code",
      "execution_count": null,
      "metadata": {
        "colab": {
          "base_uri": "https://localhost:8080/",
          "height": 337
        },
        "id": "gMFU0OehAj3O",
        "outputId": "197226ca-5165-4b29-ede4-a1ac92e14189"
      },
      "outputs": [],
      "source": [
        "model.summary()"
      ]
    },
    {
      "cell_type": "code",
      "execution_count": null,
      "metadata": {
        "colab": {
          "base_uri": "https://localhost:8080/",
          "height": 927
        },
        "id": "ggBlEsZeCWSB",
        "outputId": "352b39c3-eb08-470c-a8fe-5c1bfc9208c5"
      },
      "outputs": [],
      "source": [
        "#Graphing our training and validation\n",
        "acc = history.history['acc']\n",
        "val_acc = history.history['val_acc']\n",
        "loss = history.history['loss']\n",
        "val_loss = history.history['val_loss']\n",
        "epochs = range(len(acc))\n",
        "plt.plot(epochs, acc, 'r', label='Training acc')\n",
        "plt.plot(epochs, val_acc, 'b', label='Validation acc')\n",
        "plt.title('Training and validation accuracy')\n",
        "plt.ylabel('accuracy')\n",
        "plt.xlabel('epoch')\n",
        "plt.legend()\n",
        "plt.figure()\n",
        "plt.plot(epochs, loss, 'r', label='Training loss')\n",
        "plt.plot(epochs, val_loss, 'b', label='Validation loss')\n",
        "plt.title('Training and validation loss')\n",
        "plt.ylabel('loss')\n",
        "plt.xlabel('epoch')\n",
        "plt.legend()\n",
        "plt.show()"
      ]
    },
    {
      "cell_type": "markdown",
      "metadata": {
        "id": "sFU_QwBSbh7w"
      },
      "source": [
        "###Model Evaluation on Testing Set"
      ]
    },
    {
      "cell_type": "code",
      "execution_count": null,
      "metadata": {
        "colab": {
          "base_uri": "https://localhost:8080/"
        },
        "id": "tNINqDsNCjZj",
        "outputId": "544f9c99-f37f-4391-9c9b-4128dfea4c49"
      },
      "outputs": [],
      "source": [
        "model.evaluate(test_data, test_labels)"
      ]
    },
    {
      "cell_type": "markdown",
      "metadata": {
        "id": "l4gJ95GOblnP"
      },
      "source": [
        "###Classification metrics"
      ]
    },
    {
      "cell_type": "code",
      "execution_count": null,
      "metadata": {
        "colab": {
          "base_uri": "https://localhost:8080/"
        },
        "id": "W3_eGlLECmuG",
        "outputId": "f6f434dd-b8e5-4f6c-ea62-eed3398686b4"
      },
      "outputs": [],
      "source": [
        "print('test data', test_data)\n",
        "preds = np.round(model.predict(test_data),0)\n",
        "#to fit them into classification metrics and confusion metrics, some additional modificaitions are required\n",
        "print('rounded test_labels', preds)"
      ]
    },
    {
      "cell_type": "code",
      "execution_count": null,
      "metadata": {
        "colab": {
          "base_uri": "https://localhost:8080/"
        },
        "id": "wyJJmileCqmf",
        "outputId": "15245ea8-ddf5-4fb0-dbee-7bfda47c5a2a"
      },
      "outputs": [],
      "source": [
        "animals = ['Bear', 'Bird', 'Cat', 'Cow', 'Deer', 'Dog', 'Dolphin', 'Elephant', 'Giraffe', 'Horse', 'Kangaroo', 'Lion', 'Panda', 'Tiger', 'Zebra']\n",
        "classification_metrics = metrics.classification_report(test_labels, preds, target_names=animals )\n",
        "print(classification_metrics)"
      ]
    },
    {
      "cell_type": "markdown",
      "metadata": {
        "id": "pIEahzNjbus6"
      },
      "source": [
        "###Confusion Matrix"
      ]
    },
    {
      "cell_type": "code",
      "execution_count": 19,
      "metadata": {
        "id": "3r2T_mI7DmFe"
      },
      "outputs": [],
      "source": [
        "#Since our data is in dummy format we put the numpy array into a dataframe and call idxmax axis=1 to return the column\n",
        "#label of the maximum value thos creating a categorical variable\n",
        "#Basically, flipping a dummy variable back to it's categorical variable\n",
        "categorical_test_labels = pd.DataFrame(test_labels).idxmax(axis=1)\n",
        "categorical_preds = pd.DataFrame(preds).idxmax(axis=1)"
      ]
    },
    {
      "cell_type": "code",
      "execution_count": 20,
      "metadata": {
        "id": "tLN8rVjSDrZS"
      },
      "outputs": [],
      "source": [
        "confusion_matrix= confusion_matrix(categorical_test_labels, categorical_preds)"
      ]
    },
    {
      "cell_type": "code",
      "execution_count": 21,
      "metadata": {
        "id": "2f8FTVdgDuV7"
      },
      "outputs": [],
      "source": [
        "def plot_confusion_matrix(cm, classes,\n",
        "             normalize=False,\n",
        "             title='Confusion matrix',\n",
        "             cmap=plt.cm.Blues):\n",
        "#Add Normalization Option\n",
        "    '''prints pretty confusion metric with normalization option '''\n",
        "    if normalize:\n",
        "        cm = cm.astype('float') / cm.sum(axis=1)[:, np.newaxis]\n",
        "        print(\"Normalized confusion matrix\")\n",
        "    else:\n",
        "        print('Confusion matrix, without normalization')\n",
        "    plt.imshow(cm, interpolation='nearest', cmap=cmap)\n",
        "    plt.title(title)\n",
        "    plt.colorbar()\n",
        "    tick_marks = np.arange(len(classes))\n",
        "    plt.xticks(tick_marks, classes, rotation=45)\n",
        "    plt.yticks(tick_marks, classes)\n",
        "\n",
        "    fmt = '.2f' if normalize else 'd'\n",
        "    thresh = cm.max() / 2.\n",
        "    for i, j in itertools.product(range(cm.shape[0]), range(cm.shape[1])):\n",
        "        plt.text(j, i, format(cm[i, j], fmt), horizontalalignment=\"center\", color=\"white\" if cm[i, j] > thresh else \"black\")\n",
        "\n",
        "    plt.tight_layout()\n",
        "    plt.ylabel('True label')\n",
        "    plt.xlabel('Predicted label')"
      ]
    },
    {
      "cell_type": "code",
      "execution_count": null,
      "metadata": {
        "colab": {
          "base_uri": "https://localhost:8080/",
          "height": 523
        },
        "id": "xLXIxnBVDw-m",
        "outputId": "35ff6ecd-35b3-416b-8c9b-d5fb2198e832"
      },
      "outputs": [],
      "source": [
        "plot_confusion_matrix(confusion_matrix, ['Bear', 'Bird', 'Cat', 'Cow', 'Deer', 'Dog', 'Dolphin', 'Elephant', 'Giraffe', 'Horse', 'Kangaroo', 'Lion', 'Panda', 'Tiger', 'Zebra'])"
      ]
    },
    {
      "cell_type": "code",
      "execution_count": null,
      "metadata": {
        "colab": {
          "base_uri": "https://localhost:8080/",
          "height": 523
        },
        "id": "1-7bikwrD7Yc",
        "outputId": "51eb60d4-2246-461f-fab0-11d9aaa617c6"
      },
      "outputs": [],
      "source": [
        "#Those numbers are all over the place. Now turning normalize= True\n",
        "plot_confusion_matrix(confusion_matrix,\n",
        "                      ['Bear', 'Bird', 'Cat', 'Cow', 'Deer', 'Dog', 'Dolphin', 'Elephant', 'Giraffe', 'Horse', 'Kangaroo', 'Lion', 'Panda', 'Tiger', 'Zebra'],\n",
        "                     normalize=True)"
      ]
    },
    {
      "cell_type": "markdown",
      "metadata": {
        "id": "aXuofYLLb3xs"
      },
      "source": [
        "###Testing images on model"
      ]
    },
    {
      "cell_type": "code",
      "execution_count": 24,
      "metadata": {
        "id": "RuXChShSEhJM"
      },
      "outputs": [],
      "source": [
        "def read_image(file_path):\n",
        "    print(\"[INFO] loading and preprocessing image...\")\n",
        "    image = load_img(file_path, target_size=(224, 224))\n",
        "    image = img_to_array(image)\n",
        "    image = np.expand_dims(image, axis=0)\n",
        "    image /= 255.\n",
        "    return image"
      ]
    },
    {
      "cell_type": "code",
      "execution_count": 25,
      "metadata": {
        "id": "ArOE4jrREmbD"
      },
      "outputs": [],
      "source": [
        "def test_single_image(path):\n",
        "    animals = ['Bear', 'Bird', 'Cat', 'Cow', 'Deer', 'Dog', 'Dolphin', 'Elephant', 'Giraffe', 'Horse', 'Kangaroo', 'Lion', 'Panda', 'Tiger', 'Zebra']\n",
        "    images = read_image(path)\n",
        "    time.sleep(.5)\n",
        "    bt_prediction = vgg16.predict(images)\n",
        "    # Use predict instead of predict_proba and extract probabilities\n",
        "    preds = model.predict(bt_prediction)\n",
        "    # Assuming your model has a softmax output layer, preds will contain probabilities\n",
        "    for idx, animal, x in zip(range(0,6), animals , preds[0]):\n",
        "        print(\"ID: {}, Label: {} {}%\".format(idx, animal, round(x*100,2) ))\n",
        "    print('Final Decision:')\n",
        "    time.sleep(.5)\n",
        "    for x in range(3):\n",
        "        print('.'*(x+1))\n",
        "        time.sleep(.2)\n",
        "    # Use predict and argmax to get predicted class\n",
        "    class_predicted = np.argmax(model.predict(bt_prediction), axis=-1)\n",
        "    class_dictionary = generator_top.class_indices\n",
        "    inv_map = {v: k for k, v in class_dictionary.items()}\n",
        "    print(\"ID: {}, Label: {}\".format(class_predicted[0], inv_map[class_predicted[0]]))\n",
        "    return load_img(path)"
      ]
    },
    {
      "cell_type": "code",
      "execution_count": 26,
      "metadata": {
        "id": "zC3RixIIEoZ2"
      },
      "outputs": [],
      "source": [
        "#path of image that is used for testing\n",
        "Beer = '/content/drive/MyDrive/Projects-20240722T093004Z-001/Projects/animal_classification/Animal Classification/dataset/Bear/Bear_10.jpg'"
      ]
    },
    {
      "cell_type": "code",
      "execution_count": null,
      "metadata": {
        "colab": {
          "base_uri": "https://localhost:8080/",
          "height": 501
        },
        "id": "szMyggZ1FMjG",
        "outputId": "884aa983-f8fb-4d06-8ce1-371d4cc49686"
      },
      "outputs": [],
      "source": [
        "test_single_image(Beer)"
      ]
    },
    {
      "cell_type": "code",
      "execution_count": 28,
      "metadata": {
        "id": "MrUbYh4hFRIF"
      },
      "outputs": [],
      "source": [
        "#path of image that is used for testing\n",
        "Bird = '/content/drive/MyDrive/Projects-20240722T093004Z-001/Projects/animal_classification/Animal Classification/dataset/Bird/Bird_10_3.jpg'"
      ]
    },
    {
      "cell_type": "code",
      "execution_count": null,
      "metadata": {
        "colab": {
          "base_uri": "https://localhost:8080/",
          "height": 501
        },
        "id": "ZTvTxnd8FsyB",
        "outputId": "f318ad97-151a-42eb-f501-2d06b478cb39"
      },
      "outputs": [],
      "source": [
        "test_single_image(Bird)"
      ]
    },
    {
      "cell_type": "code",
      "execution_count": 30,
      "metadata": {
        "id": "B4OZY0j8FvLH"
      },
      "outputs": [],
      "source": [
        "#path of image that is used for testing\n",
        "Cat = '/content/drive/MyDrive/Projects-20240722T093004Z-001/Projects/animal_classification/Animal Classification/dataset/Cat/Cat_14_2.jpg'"
      ]
    },
    {
      "cell_type": "code",
      "execution_count": null,
      "metadata": {
        "colab": {
          "base_uri": "https://localhost:8080/",
          "height": 501
        },
        "id": "MH5WbV2oHqGX",
        "outputId": "e6660fc7-ef7f-45b1-87fe-0d527d4d4ec5"
      },
      "outputs": [],
      "source": [
        "test_single_image(Cat)"
      ]
    },
    {
      "cell_type": "code",
      "execution_count": 32,
      "metadata": {
        "id": "ts6paXMSGKID"
      },
      "outputs": [],
      "source": [
        "#path of image that is used for testing\n",
        "Cow = '/content/drive/MyDrive/Projects-20240722T093004Z-001/Projects/animal_classification/Animal Classification/dataset/Cow/Cow_19_1.jpg'"
      ]
    },
    {
      "cell_type": "code",
      "execution_count": null,
      "metadata": {
        "colab": {
          "base_uri": "https://localhost:8080/",
          "height": 501
        },
        "id": "MG5Y8kgqHqmk",
        "outputId": "88e56c3b-a497-481f-b4a9-46a81f73cc13"
      },
      "outputs": [],
      "source": [
        "test_single_image(Cow)"
      ]
    },
    {
      "cell_type": "code",
      "execution_count": 34,
      "metadata": {
        "id": "iZKhRbdyGKlu"
      },
      "outputs": [],
      "source": [
        "#path of image that is used for testing\n",
        "Deer = '/content/drive/MyDrive/Projects-20240722T093004Z-001/Projects/animal_classification/Animal Classification/dataset/Deer/Deer_13.jpg'"
      ]
    },
    {
      "cell_type": "code",
      "execution_count": null,
      "metadata": {
        "colab": {
          "base_uri": "https://localhost:8080/",
          "height": 501
        },
        "id": "v3tZLTgHHrMk",
        "outputId": "71e47be5-7002-47a9-b42b-cab64f6a3c88"
      },
      "outputs": [],
      "source": [
        "test_single_image(Deer)"
      ]
    },
    {
      "cell_type": "code",
      "execution_count": 36,
      "metadata": {
        "id": "l2zf5kXdGKz4"
      },
      "outputs": [],
      "source": [
        "#path of image that is used for testing\n",
        "Dog = '/content/drive/MyDrive/Projects-20240722T093004Z-001/Projects/animal_classification/Animal Classification/dataset/Dog/Dog_13_3.jpg'"
      ]
    },
    {
      "cell_type": "code",
      "execution_count": null,
      "metadata": {
        "colab": {
          "base_uri": "https://localhost:8080/",
          "height": 501
        },
        "id": "w1m_sxwSHr8a",
        "outputId": "2e98bb43-7645-4141-eaff-8e4ba5e5486e"
      },
      "outputs": [],
      "source": [
        "test_single_image(Dog)"
      ]
    },
    {
      "cell_type": "code",
      "execution_count": 38,
      "metadata": {
        "id": "bTuvB6ADGLBW"
      },
      "outputs": [],
      "source": [
        "#path of image that is used for testing\n",
        "Dolphin = '/content/drive/MyDrive/Projects-20240722T093004Z-001/Projects/animal_classification/Animal Classification/dataset/Dolphin/Dolphin_10.jpg'"
      ]
    },
    {
      "cell_type": "code",
      "execution_count": null,
      "metadata": {
        "colab": {
          "base_uri": "https://localhost:8080/",
          "height": 501
        },
        "id": "b4UXB08FHslI",
        "outputId": "229ebe80-517e-4331-936f-d7e60462d116"
      },
      "outputs": [],
      "source": [
        "test_single_image(Dolphin)"
      ]
    },
    {
      "cell_type": "code",
      "execution_count": 40,
      "metadata": {
        "id": "A9pUtuCRGOLh"
      },
      "outputs": [],
      "source": [
        "#path of image that is used for testing\n",
        "Elephant = '/content/drive/MyDrive/Projects-20240722T093004Z-001/Projects/animal_classification/Animal Classification/dataset/Elephant/Elephant_12_1.jpg'"
      ]
    },
    {
      "cell_type": "code",
      "execution_count": null,
      "metadata": {
        "colab": {
          "base_uri": "https://localhost:8080/",
          "height": 501
        },
        "id": "8GQSGHxMHti0",
        "outputId": "22c6692c-1241-4ac6-e532-17809a7278d6"
      },
      "outputs": [],
      "source": [
        "test_single_image(Elephant)"
      ]
    },
    {
      "cell_type": "code",
      "execution_count": 42,
      "metadata": {
        "id": "d1OFTodAGOaD"
      },
      "outputs": [],
      "source": [
        "#path of image that is used for testing\n",
        "Giraffe = '/content/drive/MyDrive/Projects-20240722T093004Z-001/Projects/animal_classification/Animal Classification/dataset/Giraffe/Giraffe_14_3.jpg'"
      ]
    },
    {
      "cell_type": "code",
      "execution_count": null,
      "metadata": {
        "colab": {
          "base_uri": "https://localhost:8080/",
          "height": 501
        },
        "id": "SdkbMNi2Ht5V",
        "outputId": "0ba60360-5c40-4a50-ad9a-058dae914f64"
      },
      "outputs": [],
      "source": [
        "test_single_image(Giraffe)"
      ]
    },
    {
      "cell_type": "code",
      "execution_count": 44,
      "metadata": {
        "id": "VwHGrxrjGTd4"
      },
      "outputs": [],
      "source": [
        "#path of image that is used for testing\n",
        "Horse = '/content/drive/MyDrive/Projects-20240722T093004Z-001/Projects/animal_classification/Animal Classification/dataset/Horse/Horse_24_3.jpg'"
      ]
    },
    {
      "cell_type": "code",
      "execution_count": null,
      "metadata": {
        "colab": {
          "base_uri": "https://localhost:8080/",
          "height": 501
        },
        "id": "agxaY-LFHuNH",
        "outputId": "80490c5f-26f3-484d-b35d-2712443e9c46"
      },
      "outputs": [],
      "source": [
        "test_single_image(Horse)"
      ]
    },
    {
      "cell_type": "code",
      "execution_count": 46,
      "metadata": {
        "id": "MxcC-wV1GT9w"
      },
      "outputs": [],
      "source": [
        "#path of image that is used for testing\n",
        "Kangaroo = '/content/drive/MyDrive/Projects-20240722T093004Z-001/Projects/animal_classification/Animal Classification/dataset/Kangaroo/Kangaroo_23.jpeg'"
      ]
    },
    {
      "cell_type": "code",
      "execution_count": null,
      "metadata": {
        "colab": {
          "base_uri": "https://localhost:8080/",
          "height": 501
        },
        "id": "G0bm52FCHu2S",
        "outputId": "777bf06e-15de-4d2c-b94a-0b5d7d97814f"
      },
      "outputs": [],
      "source": [
        "test_single_image(Kangaroo)"
      ]
    },
    {
      "cell_type": "code",
      "execution_count": 48,
      "metadata": {
        "id": "B03fDU_FGUSA"
      },
      "outputs": [],
      "source": [
        "#path of image that is used for testing\n",
        "Lion = '/content/drive/MyDrive/Projects-20240722T093004Z-001/Projects/animal_classification/Animal Classification/dataset/Lion/Lion_2_4.jpg'"
      ]
    },
    {
      "cell_type": "code",
      "execution_count": null,
      "metadata": {
        "colab": {
          "base_uri": "https://localhost:8080/",
          "height": 501
        },
        "id": "Y8GU9YqEHvMI",
        "outputId": "b4f5004b-7ef5-4f36-827c-4bee1c490586"
      },
      "outputs": [],
      "source": [
        "test_single_image(Lion)"
      ]
    },
    {
      "cell_type": "code",
      "execution_count": 50,
      "metadata": {
        "id": "t3Q7mq7-GUno"
      },
      "outputs": [],
      "source": [
        "#path of image that is used for testing\n",
        "Panda = '/content/drive/MyDrive/Projects-20240722T093004Z-001/Projects/animal_classification/Animal Classification/dataset/Panda/Panda_27.jpeg'"
      ]
    },
    {
      "cell_type": "code",
      "execution_count": null,
      "metadata": {
        "colab": {
          "base_uri": "https://localhost:8080/",
          "height": 501
        },
        "id": "dtnsURh_Hvko",
        "outputId": "d1a8c839-4873-46d9-f21c-7fadc5beb4f2"
      },
      "outputs": [],
      "source": [
        "test_single_image(Panda)"
      ]
    },
    {
      "cell_type": "code",
      "execution_count": 52,
      "metadata": {
        "id": "g0dVGdlSGU83"
      },
      "outputs": [],
      "source": [
        "  #path of image that is used for testing\n",
        "Tiger = '/content/drive/MyDrive/Projects-20240722T093004Z-001/Projects/animal_classification/Animal Classification/dataset/Tiger/Tiger_22_3.jpg'"
      ]
    },
    {
      "cell_type": "code",
      "execution_count": null,
      "metadata": {
        "colab": {
          "base_uri": "https://localhost:8080/",
          "height": 501
        },
        "id": "-FTbl4EbHv6F",
        "outputId": "56049cdf-f665-4714-bb29-1a42d4de72dc"
      },
      "outputs": [],
      "source": [
        "test_single_image(Tiger)"
      ]
    },
    {
      "cell_type": "code",
      "execution_count": 54,
      "metadata": {
        "id": "sZ4Q8VI0GVPB"
      },
      "outputs": [],
      "source": [
        "#path of image that is used for testing\n",
        "Zebra = '/content/drive/MyDrive/Projects-20240722T093004Z-001/Projects/animal_classification/Animal Classification/dataset/Zebra/Zebra_9_4.jpg'"
      ]
    },
    {
      "cell_type": "code",
      "execution_count": null,
      "metadata": {
        "colab": {
          "base_uri": "https://localhost:8080/",
          "height": 501
        },
        "id": "FZUmZ94lHiyg",
        "outputId": "67f6541f-46a4-4728-e1fb-037153fbeb43"
      },
      "outputs": [],
      "source": [
        "test_single_image(Zebra)"
      ]
    }
  ],
  "metadata": {
    "accelerator": "GPU",
    "colab": {
      "gpuType": "T4",
      "provenance": []
    },
    "kernelspec": {
      "display_name": "Python 3",
      "language": "python",
      "name": "python3"
    },
    "language_info": {
      "codemirror_mode": {
        "name": "ipython",
        "version": 3
      },
      "file_extension": ".py",
      "mimetype": "text/x-python",
      "name": "python",
      "nbconvert_exporter": "python",
      "pygments_lexer": "ipython3",
      "version": "3.12.1"
    }
  },
  "nbformat": 4,
  "nbformat_minor": 0
}
